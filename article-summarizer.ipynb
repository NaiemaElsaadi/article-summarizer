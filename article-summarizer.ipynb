{
 "cells": [
  {
   "cell_type": "markdown",
   "metadata": {},
   "source": [
    "# Web Mining and Applied NLP (44-620)\n",
    "\n",
    "## Final Project: Article Summarizer\n",
    "\n",
    "### Student Name: Naiema Elsaadi\n",
    "\n",
    "<b>My GitHub Repository is at :[GitHub Repository](https://github.com/NaiemaElsaadi/article-summarizer-Final-Project)\n",
    "\n",
    "Welcome to my Python Notebooks, Basics, and Data Structures repository! The project aims to assist users in quickly understanding the sentiment of articles and identifying key information without having to read the entire text. It can be useful for researchers, journalists, and anyone interested in understanding the emotional content of written text."
   ]
  },
  {
   "cell_type": "markdown",
   "metadata": {
    "tags": []
   },
   "source": [
    "### Question 1"
   ]
  },
  {
   "cell_type": "markdown",
   "metadata": {},
   "source": [
    "<b>Q1. Find on the internet an article or blog post about a topic that interests you and you are able to get the text for using the technologies we have applied in the course.  Get the html for the article and store it in a file (which you must submit with your project)"
   ]
  },
  {
   "cell_type": "markdown",
   "metadata": {},
   "source": [
    "\n",
    "The article I am interested in is titled 'Microsoft and Quantinuum’s quantum computer may be most reliable yet' and can be found at the following URL\n",
    " https://www.newscientist.com/article/2425243-microsoft-and-quantinuums-quantum-computer-may-be-most-reliable-yet/"
   ]
  },
  {
   "cell_type": "code",
   "execution_count": 1,
   "metadata": {},
   "outputs": [
    {
     "name": "stdout",
     "output_type": "stream",
     "text": [
      "Article HTML content has been saved to 'article.html'\n"
     ]
    }
   ],
   "source": [
    "import requests\n",
    "\n",
    "# URL of the article\n",
    "url = \"https://www.newscientist.com/article/2425243-microsoft-and-quantinuums-quantum-computer-may-be-most-reliable-yet/\"\n",
    "\n",
    "# Send a GET request to the URL\n",
    "response = requests.get(url)\n",
    "\n",
    "# Check if the request was successful (status code 200)\n",
    "if response.status_code == 200:\n",
    "    # Get the HTML content of the webpage\n",
    "    html_content = response.text\n",
    "    \n",
    "    # Save the HTML content to a file\n",
    "    with open(\"article.html\", \"w\", encoding=\"utf-8\") as f:\n",
    "        f.write(html_content)\n",
    "        \n",
    "    print(\"Article HTML content has been saved to 'article.html'\")\n",
    "else:\n",
    "    print(\"Failed to retrieve the article. Status code:\", response.status_code)\n"
   ]
  },
  {
   "cell_type": "code",
   "execution_count": 2,
   "metadata": {},
   "outputs": [
    {
     "name": "stdout",
     "output_type": "stream",
     "text": [
      "Article content has been saved to 'article.txt'\n"
     ]
    }
   ],
   "source": [
    "from bs4 import BeautifulSoup\n",
    "\n",
    "# Read the HTML content from the saved file\n",
    "with open('article.html', 'r', encoding='utf-8') as file:\n",
    "    html_content = file.read()\n",
    "\n",
    "# Parse HTML and extract plain text\n",
    "soup = BeautifulSoup(html_content, 'html.parser')\n",
    "article_text = soup.get_text()\n",
    "\n",
    "# Save plain text to a new file\n",
    "with open('article.txt', 'w', encoding='utf-8') as file:\n",
    "    file.write(article_text)\n",
    "\n",
    "print(\"Article content has been saved to 'article.txt'\")\n"
   ]
  },
  {
   "cell_type": "code",
   "execution_count": 3,
   "metadata": {},
   "outputs": [
    {
     "name": "stdout",
     "output_type": "stream",
     "text": [
      "200\n",
      "text/html; charset=UTF-8\n"
     ]
    }
   ],
   "source": [
    "import requests\n",
    "url = \"https://www.newscientist.com/article/2425243-microsoft-and-quantinuums-quantum-computer-may-be-most-reliable-yet/\"\n",
    "\n",
    "response = requests.get(\"https://www.newscientist.com/article/2425243-microsoft-and-quantinuums-quantum-computer-may-be-most-reliable-yet/\"\n",
    ")\n",
    "\n",
    "print(response.status_code)\n",
    "print(response.headers['content-type'])"
   ]
  },
  {
   "cell_type": "code",
   "execution_count": 4,
   "metadata": {},
   "outputs": [
    {
     "name": "stdout",
     "output_type": "stream",
     "text": [
      "<article class=\"ArticlePageWrapper post-2425243\" id=\"2425243\">\n",
      "<div class=\"Grid__Row SM12 LG8\">\n",
      "<div class=\"Grid__Column\">\n",
      "<section class=\"ArticleHeader\">\n",
      "<div class=\"ArticleHeader__CopyWrapper\">\n",
      "<header>\n",
      "<h4 class=\"ArticleHeader__Category\">\n",
      "<a class=\"ArticleHeader__CategoryLink\" data-analytics-hook=\"article-header-subject-link\" href=\"/subject/technology/\">Technology</a>\n",
      "</h4>\n",
      "<h1 class=\"ArticleHeader__Heading\">Microsoft and Quantinuum’s quantum computer may be most reliable yet</h1>\n",
      "<p class=\"ArticleHeader__Copy\">A quantum computer built by Quantinuum uses “logical quantum bits” designed by Microsoft to run simple computational routines with an unprecedented level of reliability</p>\n",
      "<p class=\"ArticleHeader__Author\"><span class=\"ArticleHeader__AuthorLinks\">By <a class=\"ArticleHeader__NameLink\" href=\"/author/karmela-padavic-callaghan/\">Karmela Padavic-Callaghan</a></span></p>\n",
      "<div class=\"ArticleHeader__DateTimeWrapper\">\n",
      "<svg class=\"ArticleHeader__DateTimeIcon\" fill=\"none\" height=\"25\" title=\"Calendar icon\" viewbox=\"0 0 24 25\" width=\"24\" xmlns=\"http://www.w3.org/2000/svg\"><path d=\"M7.205 8.077v-2.56c0-.56.44-1 1-1s1 .44 1 1v2.56c0 .56-.44 1-1 1s-1-.44-1-1Zm8.6 1c.56 0 1-.44 1-1v-2.56c0-.56-.44-1-1-1s-1 .44-1 1v2.56c0 .56.44 1 1 1Zm5.4-2.28v13.52c0 .44-.36.8-.8.8h-16.8c-.44 0-.8-.36-.8-.8V6.797c0-.44.36-.88.8-.88h1.86c.44 0 .8.36.8.8 0 .44-.36.8-.8.8h-1.08v3.4h15.2v-3.4h-1.06c-.44 0-.8-.36-.8-.8 0-.44.36-.8.8-.8h1.86c.46 0 .82.44.82.88Zm-1.6 12.72v-7.2h-15.2v7.2h15.2Zm-8.86-12h2.52c.44 0 .8-.36.8-.8 0-.44-.36-.8-.8-.8h-2.52c-.44 0-.8.36-.8.8 0 .44.36.8.8.8Z\" fill=\"#000\"></path></svg>\n",
      "<p class=\"ArticleHeader__Date\">\n",
      "                                    3 April 2024\n",
      "                                                                    </p>\n",
      "</div>\n",
      "<div class=\"ArticleHeader__SocialWrapper\">\n",
      "<a aria-label=\"Link to Facebook / Meta\" class=\"ArticleHeader__SocialIcon\" data-social-platform=\"facebook\" href=\"https://www.facebook.com/sharer/sharer.php?u=https%3A%2F%2Fwww.newscientist.com%2Farticle%2F2425243-microsoft-and-quantinuums-quantum-computer-may-be-most-reliable-yet%2F\" rel=\"nofollow\" target=\"_blank\">\n",
      "<svg fill=\"rgb(0, 0, 0)\" role=\"img\" version=\"1.1\" viewbox=\"0 0 32 32\" xmlns=\"http://www.w3.org/2000/svg\" xmlns:xlink=\"http://www.w3.org/1999/xlink\">\n",
      "<title>Facebook / Meta</title>\n",
      "<g>\n",
      "<path d=\"M22 5.16c-.406-.054-1.806-.16-3.43-.16-3.4 0-5.733 1.825-5.733 5.17v2.882H9v3.913h3.837V27h4.604V16.965h3.823l.587-3.913h-4.41v-2.5c0-1.123.347-1.903 2.198-1.903H22V5.16z\" fill-rule=\"evenodd\"></path>\n",
      "</g>\n",
      "</svg>\n",
      "</a>\n",
      "<a aria-label=\"Link to Twitter / X\" class=\"ArticleHeader__SocialIcon\" data-social-platform=\"twitter\" href=\"https://twitter.com/share?url=https%3A%2F%2Fwww.newscientist.com%2Farticle%2F2425243-microsoft-and-quantinuums-quantum-computer-may-be-most-reliable-yet%2F\" rel=\"nofollow\" target=\"_blank\">\n",
      "<svg fill=\"none\" height=\"22\" viewbox=\"0 0 22 22\" width=\"22\" xmlns=\"http://www.w3.org/2000/svg\">\n",
      "<title>Twitter / X icon</title>\n",
      "<path d=\"m12.21 9.814 5.644-6.556h-1.338l-4.9 5.692L7.7 3.258H3.185l5.92 8.608-5.92 6.875h1.338L9.7 12.73l4.134 6.011h4.515L12.21 9.814Zm-1.833 2.128-.6-.857-4.772-6.821H7.06l3.851 5.505.6.857 5.006 7.155h-2.055l-4.085-5.839Z\" fill=\"#000\"></path>\n",
      "</svg>\n",
      "</a>\n",
      "<a class=\"ArticleHeader__SocialIcon ArticleHeader__SocialIcon--WhatsApp\" data-action=\"share/whatsapp/share\" data-social-platform=\"whatsapp\" href=\"whatsapp://send?text=Microsoft%20and%20Quantinuum%E2%80%99s%20quantum%20computer%20may%20be%20most%20reliable%20yet%20https://www.newscientist.com/article/2425243-microsoft-and-quantinuums-quantum-computer-may-be-most-reliable-yet/\" rel=\"nofollow\" target=\"_blank\">\n",
      "<svg role=\"img\" style=\"fill: rgb(0, 0, 0);\" version=\"1.1\" viewbox=\"0 0 32 32\" xmlns=\"http://www.w3.org/2000/svg\" xmlns:xlink=\"http://www.w3.org/1999/xlink\">\n",
      "<title>WhatsApp</title>\n",
      "<g>\n",
      "<path d=\"M19.11 17.205c-.372 0-1.088 1.39-1.518 1.39a.63.63 0 0 1-.315-.1c-.802-.402-1.504-.817-2.163-1.447-.545-.516-1.146-1.29-1.46-1.963a.426.426 0 0 1-.073-.215c0-.33.99-.945.99-1.49 0-.143-.73-2.09-.832-2.335-.143-.372-.214-.487-.6-.487-.187 0-.36-.043-.53-.043-.302 0-.53.115-.746.315-.688.645-1.032 1.318-1.06 2.264v.114c-.015.99.472 1.977 1.017 2.78 1.23 1.82 2.506 3.41 4.554 4.34.616.287 2.035.888 2.722.888.817 0 2.15-.515 2.478-1.318.13-.33.244-.73.244-1.088 0-.058 0-.144-.03-.215-.1-.172-2.434-1.39-2.678-1.39zm-2.908 7.593c-1.747 0-3.48-.53-4.942-1.49L7.793 24.41l1.132-3.337a8.955 8.955 0 0 1-1.72-5.272c0-4.955 4.04-8.995 8.997-8.995S25.2 10.845 25.2 15.8c0 4.958-4.04 8.998-8.998 8.998zm0-19.798c-5.96 0-10.8 4.842-10.8 10.8 0 1.964.53 3.898 1.546 5.574L5 27.176l5.974-1.92a10.807 10.807 0 0 0 16.03-9.455c0-5.958-4.842-10.8-10.802-10.8z\" fill-rule=\"evenodd\"></path>\n",
      "</g>\n",
      "</svg>\n",
      "</a>\n",
      "<a aria-label=\"Link to Linkedin\" class=\"ArticleHeader__SocialIcon\" data-social-platform=\"linkedin\" href=\"https://www.linkedin.com/sharing/share-offsite/?url=https%3A%2F%2Fwww.newscientist.com%2Farticle%2F2425243-microsoft-and-quantinuums-quantum-computer-may-be-most-reliable-yet%2F\" rel=\"nofollow\" target=\"_blank\">\n",
      "<svg role=\"img\" style=\"fill: rgb(0, 0, 0);\" version=\"1.1\" viewbox=\"0 0 32 32\" xmlns=\"http://www.w3.org/2000/svg\" xmlns:xlink=\"http://www.w3.org/1999/xlink\">\n",
      "<title>Linkedin</title>\n",
      "<g>\n",
      "<path d=\"M26 25.963h-4.185v-6.55c0-1.56-.027-3.57-2.175-3.57-2.18 0-2.51 1.7-2.51 3.46v6.66h-4.182V12.495h4.012v1.84h.058c.558-1.058 1.924-2.174 3.96-2.174 4.24 0 5.022 2.79 5.022 6.417v7.386zM8.23 10.655a2.426 2.426 0 0 1 0-4.855 2.427 2.427 0 0 1 0 4.855zm-2.098 1.84h4.19v13.468h-4.19V12.495z\" fill-rule=\"evenodd\"></path>\n",
      "</g>\n",
      "</svg>\n",
      "</a>\n",
      "<a class=\"ArticleHeader__SocialIcon\" data-social-platform=\"reddit\" href=\"https://reddit.com/submit?url=https%3A%2F%2Fwww.newscientist.com%2Farticle%2F2425243-microsoft-and-quantinuums-quantum-computer-may-be-most-reliable-yet%2F&amp;title=Microsoft%20and%20Quantinuum%E2%80%99s%20quantum%20computer%20may%20be%20most%20reliable%20yet\" rel=\"nofollow\" target=\"_blank\">\n",
      "<svg role=\"img\" style=\"fill: rgb(0, 0, 0);\" version=\"1.1\" viewbox=\"0 0 32 32\" xmlns=\"http://www.w3.org/2000/svg\" xmlns:xlink=\"http://www.w3.org/1999/xlink\">\n",
      "<title>Reddit</title>\n",
      "<g>\n",
      "<path d=\"M27 15.5a2.452 2.452 0 0 1-1.338 2.21c.098.38.147.777.147 1.19 0 1.283-.437 2.47-1.308 3.563-.872 1.092-2.06 1.955-3.567 2.588-1.506.634-3.143.95-4.91.95-1.768 0-3.403-.316-4.905-.95-1.502-.632-2.69-1.495-3.56-2.587-.872-1.092-1.308-2.28-1.308-3.562 0-.388.045-.777.135-1.166a2.47 2.47 0 0 1-1.006-.912c-.253-.4-.38-.842-.38-1.322 0-.678.237-1.26.712-1.744a2.334 2.334 0 0 1 1.73-.726c.697 0 1.29.26 1.78.782 1.785-1.258 3.893-1.928 6.324-2.01l1.424-6.467a.42.42 0 0 1 .184-.26.4.4 0 0 1 .32-.063l4.53 1.006c.147-.306.368-.553.662-.74a1.78 1.78 0 0 1 .97-.278c.508 0 .94.18 1.302.54.36.36.54.796.54 1.31 0 .512-.18.95-.54 1.315-.36.364-.794.546-1.302.546-.507 0-.94-.18-1.295-.54a1.793 1.793 0 0 1-.533-1.308l-4.1-.92-1.277 5.86c2.455.074 4.58.736 6.37 1.985a2.315 2.315 0 0 1 1.757-.757c.68 0 1.256.242 1.73.726.476.484.713 1.066.713 1.744zm-16.868 2.47c0 .513.178.95.534 1.315.356.365.787.547 1.295.547.508 0 .942-.182 1.302-.547.36-.364.54-.802.54-1.315 0-.513-.18-.95-.54-1.31-.36-.36-.794-.54-1.3-.54-.5 0-.93.183-1.29.547a1.79 1.79 0 0 0-.54 1.303zm9.944 4.406c.09-.09.135-.2.135-.323a.444.444 0 0 0-.44-.447c-.124 0-.23.042-.32.124-.336.348-.83.605-1.486.77a7.99 7.99 0 0 1-1.964.248 7.99 7.99 0 0 1-1.964-.248c-.655-.165-1.15-.422-1.486-.77a.456.456 0 0 0-.32-.124.414.414 0 0 0-.306.124.41.41 0 0 0-.135.317.45.45 0 0 0 .134.33c.352.355.837.636 1.455.843.617.207 1.118.33 1.503.366a11.6 11.6 0 0 0 1.117.056c.36 0 .733-.02 1.117-.056.385-.037.886-.16 1.504-.366.62-.207 1.104-.488 1.456-.844zm-.037-2.544c.507 0 .938-.182 1.294-.547.356-.364.534-.802.534-1.315 0-.505-.18-.94-.54-1.303a1.75 1.75 0 0 0-1.29-.546c-.506 0-.94.18-1.3.54-.36.36-.54.797-.54 1.31s.18.95.54 1.315c.36.365.794.547 1.3.547z\" fill-rule=\"evenodd\"></path>\n",
      "</g>\n",
      "</svg>\n",
      "</a>\n",
      "<a class=\"ArticleHeader__SocialIcon\" data-social-platform=\"email\" href=\"mailto:?subject=Microsoft%20and%20Quantinuum%E2%80%99s%20quantum%20computer%20may%20be%20most%20reliable%20yet&amp;body=A%20quantum%20computer%20built%20by%20Quantinuum%20uses%20%E2%80%9Clogical%20quantum%20bits%E2%80%9D%20designed%20by%20Microsoft%20to%20run%20simple%20computational%20routines%20with%20an%20unprecedented%20level%20of%20reliability%0D%0Aread more: https%3A%2F%2Fwww.newscientist.com%2Farticle%2F2425243-microsoft-and-quantinuums-quantum-computer-may-be-most-reliable-yet%2F\" rel=\"nofollow\" target=\"_blank\">\n",
      "<svg role=\"img\" style=\"fill: rgb(0, 0, 0);\" version=\"1.1\" viewbox=\"0 0 32 32\" xmlns=\"http://www.w3.org/2000/svg\" xmlns:xlink=\"http://www.w3.org/1999/xlink\">\n",
      "<title>Email</title>\n",
      "<g>\n",
      "<g fill-rule=\"evenodd\"></g>\n",
      "<path d=\"M27 22.757c0 1.24-.988 2.243-2.19 2.243H7.19C5.98 25 5 23.994 5 22.757V13.67c0-.556.39-.773.855-.496l8.78 5.238c.782.467 1.95.467 2.73 0l8.78-5.238c.472-.28.855-.063.855.495v9.087z\"></path><path d=\"M27 9.243C27 8.006 26.02 7 24.81 7H7.19C5.988 7 5 8.004 5 9.243v.465c0 .554.385 1.232.857 1.514l9.61 5.733c.267.16.8.16 1.067 0l9.61-5.733c.473-.283.856-.96.856-1.514v-.465z\"></path>\n",
      "</g>\n",
      "</svg>\n",
      "</a>\n",
      "<a class=\"ArticleHeader__SocialIcon js-print-button\" rel=\"nofollow\" tabindex=\"0\">\n",
      "<svg role=\"img\" style=\"fill: rgb(0, 0, 0);\" version=\"1.1\" viewbox=\"0 0 32 32\" xmlns=\"http://www.w3.org/2000/svg\" xmlns:xlink=\"http://www.w3.org/1999/xlink\">\n",
      "<g>\n",
      "<path d=\"M24.67 10.62h-2.86V7.49H10.82v3.12H7.95c-.5 0-.9.4-.9.9v7.66h3.77v1.31L15 24.66h6.81v-5.44h3.77v-7.7c-.01-.5-.41-.9-.91-.9zM11.88 8.56h8.86v2.06h-8.86V8.56zm10.98 9.18h-1.05v-2.1h-1.06v7.96H16.4c-1.58 0-.82-3.74-.82-3.74s-3.65.89-3.69-.78v-3.43h-1.06v2.06H9.77v-3.58h13.09v3.61zm.75-4.91c-.4 0-.72-.32-.72-.72s.32-.72.72-.72c.4 0 .72.32.72.72s-.32.72-.72.72zm-4.12 2.96h-6.1v1.06h6.1v-1.06zm-6.11 3.15h6.1v-1.06h-6.1v1.06z\"></path>\n",
      "</g>\n",
      "</svg>\n",
      "</a></div> </header>\n",
      "</div>\n",
      "</section>\n",
      "<section class=\"ArticleContent js-article-content\">\n",
      "<p><figure class=\"article-image-inline ArticleImage\" data-method=\"caption-shortcode\"><div class=\"ArticleImage__Wrapper\"><img alt=\"Quantum computer chip\" class=\"image size-full wp-image-2425261 ReplaceImageLazyload\" data-caption=\"The Quantinuum H2 chip\" data-credit=\"Quantinuum\" data-src=\"https://images.newscientist.com/wp-content/uploads/2024/04/02214659/SEI_198305505.jpg?width=1200\" height=\"900\" sizes=\"(min-width: 1130px) 900px, (min-width: 1025px) 900, (min-width: 768px) calc(100vw - 30px), calc(100vw - 30px)\" src=\"https://images.newscientist.com/wp-content/uploads/2024/04/02214659/SEI_198305505.jpg?width=1200\" srcset=\"https://images.newscientist.com/wp-content/uploads/2024/04/02214659/SEI_198305505.jpg?width=100 100w, https://images.newscientist.com/wp-content/uploads/2024/04/02214659/SEI_198305505.jpg?width=200 200w, https://images.newscientist.com/wp-content/uploads/2024/04/02214659/SEI_198305505.jpg?width=249 249w, https://images.newscientist.com/wp-content/uploads/2024/04/02214659/SEI_198305505.jpg?width=300 300w, https://images.newscientist.com/wp-content/uploads/2024/04/02214659/SEI_198305505.jpg?width=400 400w, https://images.newscientist.com/wp-content/uploads/2024/04/02214659/SEI_198305505.jpg?width=500 500w, https://images.newscientist.com/wp-content/uploads/2024/04/02214659/SEI_198305505.jpg?width=600 600w, https://images.newscientist.com/wp-content/uploads/2024/04/02214659/SEI_198305505.jpg?width=700 700w, https://images.newscientist.com/wp-content/uploads/2024/04/02214659/SEI_198305505.jpg?width=800 800w, https://images.newscientist.com/wp-content/uploads/2024/04/02214659/SEI_198305505.jpg?width=900 900w\" width=\"1350\"/></div><figcaption class=\"ArticleImageCaption\"><div class=\"ArticleImageCaption__Icon\"><svg fill=\"none\" height=\"15\" viewbox=\"0 0 15 15\" width=\"15\" xmlns=\"http://www.w3.org/2000/svg\"><circle cx=\"7.5\" cy=\"7.333\" fill=\"#FBCB05\" r=\"7\"></circle><path d=\"m7.5 2.708 4.33 7.5H3.17l4.33-7.5Z\" fill=\"#000\"></path></svg></div><div class=\"ArticleImageCaption__CaptionWrapper\"><p class=\"ArticleImageCaption__Title\">The Quantinuum H2 chip</p><p class=\"ArticleImageCaption__Credit\">Quantinuum</p></div></figcaption></figure></p>\n",
      "<p>Microsoft and the quantum computing firm Quantinuum claim to have made a quantum computer that has an unprecedented level of reliability. Its ability to correct its own errors could be a step towards more practical quantum computers in the near future.</p>\n",
      "<p>“What we did here gives me goosebumps. We have shown that error correction is repeatable, it is working and it is reliable,” says <a href=\"https://www.microsoft.com/en-us/research/people/ksvore/\">Krysta Svore</a> at Microsoft.</p>\n",
      "<p>Experts have long anticipated the arrival of practical quantum computers, which could complete calculations that are <a href=\"/article/2420543-d-wave-says-its-quantum-computers-can-solve-otherwise-impossible-tasks/\">too complex for conventional computers</a>. Though quantum computers are steadily becoming larger and more complex, this prediction hasn’t yet been fully realised. One big reason for this is that all contemporary quantum computers make errors, and researchers have found it technically difficult to implement algorithms to <a href=\"/article/2388191-ibm-has-just-made-error-correction-easier-for-quantum-computers/\">catch and correct them during computation</a>.</p><div class=\"AdvertWrapper MPUMidArticle\"><div class=\"Advert\"><div class=\"Advert__Inner\"><p class=\"Advert__Copy\">Advertisement</p><div class=\"mpu mpu--mid-article mpu--text-align-center\" id=\"mid-article-slot\"><script type=\"text/javascript\">\n",
      "                            googletag.cmd.push(function() { googletag.display('mid-article-slot'); });\n",
      "                        </script></div></div></div></div>\n",
      "<p> <div class=\"ReadMore\" data-companiontext=\"Read more\" data-id=\"2407667\" data-image=\"false\" data-link=\"/article/mg26034691-200-mystery-of-the-quantum-lentils-are-legumes-exchanging-secret-signals/\" data-linktext=\"Mystery of the quantum lentils: Are legumes exchanging secret signals?\" data-straplinetext=\"\" data-template=\"standard\">\n",
      "<a class=\"ReadMore__Link\" data-analytics-hook=\"article-read-more\" href=\"/article/mg26034691-200-mystery-of-the-quantum-lentils-are-legumes-exchanging-secret-signals/\">\n",
      "<div class=\"ReadMore__TypeHeadingWrapper\">\n",
      "<p class=\"ReadMore__TypeHeading\">Read more\n",
      "            </p>\n",
      "</div>\n",
      "<p class=\"ReadMore__TitleWrapper\">\n",
      "<span class=\"ReadMore__Title\">\n",
      "                                    Mystery of the quantum lentils: Are legumes exchanging secret signals?\n",
      "                            </span>\n",
      "</p>\n",
      "</a>\n",
      "</div>\n",
      "</p>\n",
      "<p>The new experiment may represent a significant step towards overcoming this error problem – the researchers say they ran over 14,000 separate computational routines on Quantinuum’s H2 quantum processors without a single error.</p>\n",
      "<span class=\"js-content-prompt-opportunity\"></span><p>Classical computers also make errors, but error correction can be coded into programs by making back-up copies of the information being processed. This approach isn’t possible in quantum computing because quantum information cannot be copied. So, instead, researchers spread it across groups of connected quantum bits, or qubits, to create what are known as logical qubits. The Microsoft and Quantinuum team used 30 qubits to make four of these logical qubits.</p><div class=\"NewsletterPromotion\"> <header class=\"NewsletterPromotion__Header\">\n",
      "<h4 class=\"NewsletterPromotion__Heading\">Sign up to our The Weekly newsletter</h4>\n",
      "</header>\n",
      "<div class=\"NewsletterPromotion__DescriptionWrapper\">\n",
      "<i class=\"NewsletterPromotion__IconWrapper\"><svg fill=\"none\" height=\"56\" viewbox=\"0 0 56 56\" width=\"56\" xmlns=\"http://www.w3.org/2000/svg\">\n",
      "<rect fill=\"#FF3D41\" height=\"56\" rx=\"4\" width=\"56\"></rect>\n",
      "<path d=\"M38.2371 35.8832C41.1017 35.7792 41.3858 34.1598 41.3751 33.4679C41.3445 31.5086 39.4809 30.859 36.0976 29.6788L35.8831 29.604C32.7777 28.4877 29.8417 27.4318 29.7643 22.4563C29.7127 19.1105 30.3719 16.8377 31.8404 15.3031C33.3034 13.7751 35.6293 13 38.7546 13C40.9221 13 44.9407 13.4742 46.8844 14.4859C46.8844 14.7846 46.8824 20.0598 46.8824 20.8168C45.2687 20 42.0964 18.9195 39.1618 18.9854C37.1352 19.0304 36.2022 19.787 36.2265 21.3669C36.2499 22.849 37.5178 23.301 39.4378 23.9848C40.511 24.3672 41.8468 24.8431 43.3509 25.6235C46.1118 27.1063 47.9287 28.4102 47.998 32.8356C48.0431 35.7587 47.3356 38.0046 45.8938 39.5115C44.3131 41.1624 41.7809 42 38.3683 42C34.5986 42 31.4301 40.9854 29.781 40.335L29.7806 34.1275C32.0117 35.3925 34.9187 36.0034 38.2371 35.8832ZM21.3446 13.3894L21.3371 28.2824L14.13 13.4525C10.9825 13.3924 8.37786 15.3353 8 15.6313V41.5429L14.2561 41.5435L14.2604 27.3948L21.4259 41.5461H21.4981L27.5249 41.5455V13.3874L21.3446 13.3894Z\" fill=\"#011E41\"></path>\n",
      "</svg></i>\n",
      "<p class=\"NewsletterPromotion__Copy\">Receive a weekly dose of discovery in your inbox.</p>\n",
      "</div>\n",
      "<div class=\"NewsletterPromotion__ButtonWrapper\">\n",
      "<a class=\"Button Button--Primary\" href=\"/sign-up/weekly/\">Sign up to newsletter</a>\n",
      "</div>\n",
      "</div>\n",
      "<p>Svore says that it was the generation of these logical qubits, using a process developed by Microsoft, that enabled repeated runs of error-free, or fault-tolerant, experiments. Individual qubits are typically easily disturbed, but at the level of the logical qubits, the researchers could repeatedly detect and correct the errors.</p>\n",
      "<p>They say this approach was so successful that the four logical qubits produced as few as 0.125 per cent of the errors that were seen when the 30 qubits were left ungrouped. This means the ungrouped qubits would have produced as many as 800 errors for every one error produced by the logical qubits.</p>\n",
      "<p>“A logical error rate 800 times lower than the error rate of the physical qubits is a very significant advance in the field that takes us another step closer to fault-tolerant quantum computing,” says <a href=\"https://www.physics.wisc.edu/directory/saffman-mark/\">Mark Saffman</a> at the University of Wisconsin who was not involved with the experiment.</p>\n",
      "<p><a href=\"https://www.linkedin.com/in/jennifer-strabley-2828927/\">Jennifer Strabley</a> at Quantinuum says the team’s hardware was well suited for the new experiments because it offers a high degree of control over qubits and because its quantum computer already had some of the lowest error rates achieved to date.</p>\n",
      "<p> <div class=\"ReadMoreWithImage\" data-companiontext=\"Read more\" data-id=\"2336579\" data-image=\"true\" data-img-src=\"2022/09/05135216/SEI_122621396.jpg\" data-link=\"/article/mg25534030-800-quantum-batteries-strange-technology-that-could-provide-instant-power/\" data-linktext=\"Quantum batteries: Strange technology that could provide instant power\" data-straplinetext=\"By leveraging a bizarre property of quantum mechanics called entanglement, quantum batteries could theoretically recharge in a flash. Now, progress is being made towards making them a reality.\" data-template=\"standard\"><a class=\"ReadMoreWithImage__Link\" href=\"/article/mg25534030-800-quantum-batteries-strange-technology-that-could-provide-instant-power/\"><div class=\"ReadMoreWithImage__ImageWrapper\"><img alt=\"Quantum batteries: Strange technology that could provide instant power\" class=\"image lazyload\" data-credit=\"Simone Rotella\" data-src=\"https://images.newscientist.com/wp-content/uploads/2022/09/05135216/SEI_122621396.jpg?width=300\" data-srcset=\"https://images.newscientist.com/wp-content/uploads/2022/09/05135216/SEI_122621396.jpg?width=150 150w, https://images.newscientist.com/wp-content/uploads/2022/09/05135216/SEI_122621396.jpg?width=300 300w, https://images.newscientist.com/wp-content/uploads/2022/09/05135216/SEI_122621396.jpg?width=768 768w, https://images.newscientist.com/wp-content/uploads/2022/09/05135216/SEI_122621396.jpg?width=600 600w, https://images.newscientist.com/wp-content/uploads/2022/09/05135216/SEI_122621396.jpg?width=800 800w, https://images.newscientist.com/wp-content/uploads/2022/09/05135216/SEI_122621396.jpg?width=1546 1546w, https://images.newscientist.com/wp-content/uploads/2022/09/05135216/SEI_122621396.jpg?width=1200 1200w\" height=\"800\" loading=\"lazy\" sizes=\"(max-width: 300px) 100vw, 300px\" width=\"1200\"/></div><div class=\"ReadMoreWithImage__TextWrapper\"><p class=\"ReadMoreWithImage__Title\">\n",
      "                                    Quantum batteries: Strange technology that could provide instant power\n",
      "                            </p><p class=\"ReadMoreWithImage__Excerpt\">\n",
      "                                    By leveraging a bizarre property of quantum mechanics called entanglement, quantum batteries could theoretically recharge in a flash. Now, progress is being made towards making them a reality.\n",
      "                            </p></div></a></div> </p>\n",
      "<p>In 2023, a team of researchers at Harvard University and their colleagues, including some at the quantum computing start-up QuEra, <a href=\"/article/2407145-quantum-computer-sets-record-on-path-towards-error-free-calculations/\">broke the record</a> for the largest number of logical qubits – 48 at once. This is far more than the four logical qubits in the new device. But Strabley says the new device requires fewer physical qubits per logical qubit, and the logical qubits made fewer errors than those built by the Harvard team. “We used a lot fewer physical qubits and got better results,” she says.</p>\n",
      "<p>However, some experts consulted by <em>New Scientist</em> were not ready to qualify the new work as a breakthrough in quantum error correction just yet without more detail about the experiment.</p>\n",
      "<p>It is generally accepted that only quantum computers with 100 or more logical qubits will really be able to tackle <a href=\"/article/2420137-google-launches-5m-prize-to-find-actual-uses-for-quantum-computers/\">scientifically and societally relevant problems</a> in areas including chemistry or materials science. The next challenge is making everything larger. Both Strabley and Svore say they are confident that the longstanding collaboration between Microsoft and Quantinuum will get there soon.</p>\n",
      "<section class=\"ArticleTopics\"><p class=\"ArticleTopics__Heading\">Topics:</p><ul class=\"ArticleTopics__List\"><li class=\"ArticleTopics__ListItem\"><a class=\"ArticleTopics__ListItemLink\" data-analytics-hook=\"topics-link\" href=\"/article-topic/quantum-computing/\">quantum computing</a></li></ul></section> </section>\n",
      "</div>\n",
      "<div class=\"Grid__Column\">\n",
      "<div class=\"AdvertWrapper MPUSidebar\">\n",
      "<div class=\"Advert\">\n",
      "<div class=\"Advert__Inner Advert__Inner--Sidebar\">\n",
      "<p class=\"Advert__Copy\">Advertisement</p>\n",
      "<div class=\"Advert__Sidebar\" id=\"sidebar-slot\">\n",
      "<script type=\"text/javascript\">\n",
      "                    googletag.cmd.push(function () {\n",
      "                        googletag.display('sidebar-slot');\n",
      "                    });\n",
      "                </script>\n",
      "</div>\n",
      "</div>\n",
      "</div>\n",
      "</div>\n",
      "<section class=\"SidebarNewsletterWrapper\" data-js-sidebar-newsletter-sign-up=\"\">\n",
      "<div class=\"SidebarNewsletterGrid\">\n",
      "<div class=\"SidebarNewsletterEmptyColumn\"></div>\n",
      "<div class=\"SidebarNewsletter\">\n",
      "<div class=\"SidebarNewsletter__IconWrapper\">\n",
      "<svg fill=\"none\" height=\"57\" viewbox=\"0 0 56 57\" width=\"56\" xmlns=\"http://www.w3.org/2000/svg\"><rect fill=\"#FF3D41\" height=\"56\" rx=\"4\" width=\"55\" x=\".93\" y=\".563\"></rect><path d=\"M38.482 36.946c2.814-.104 3.093-1.724 3.082-2.416-.03-1.959-1.86-2.608-5.183-3.789l-.21-.075c-3.05-1.116-5.934-2.172-6.01-7.147-.05-3.346.596-5.619 2.039-7.153 1.437-1.528 3.721-2.303 6.79-2.303 2.13 0 6.076.474 7.985 1.485l-.002 6.331c-1.585-.817-4.7-1.897-7.582-1.831-1.99.045-2.907.802-2.883 2.381.023 1.483 1.268 1.934 3.153 2.618 1.055.383 2.367.859 3.844 1.639 2.711 1.483 4.496 2.787 4.564 7.212.044 2.923-.65 5.17-2.067 6.676-1.552 1.65-4.04 2.489-7.39 2.489-3.703 0-6.815-1.015-8.435-1.666V35.19c2.191 1.265 5.046 1.876 8.305 1.756Zm-16.59-22.494-.008 14.893-7.078-14.83c-3.092-.06-5.65 1.883-6.02 2.179v25.911l6.144.001.004-14.149L21.97 42.61h.071l5.92-.001V14.45l-6.07.002Z\" fill=\"#000\"></path></svg>\n",
      "</div>\n",
      "<header>\n",
      "<h2 class=\"SidebarNewsletter__Heading\">Sign up to our weekly newsletter</h2>\n",
      "</header>\n",
      "<p class=\"SidebarNewsletter__Description\">Receive a weekly dose of discovery in your inbox! \n",
      "            We'll also keep you up to date with <em>New Scientist</em> \n",
      "            events and special offers.</p>\n",
      "<a class=\"Button Button--Primary\" href=\"/sign-up/weekly\">Sign up</a>\n",
      "</div>\n",
      "</div>\n",
      "</section> </div>\n",
      "</div>\n",
      "</article>\n"
     ]
    }
   ],
   "source": [
    "import requests\n",
    "from bs4 import BeautifulSoup\n",
    "import pickle\n",
    "url = \"https://www.newscientist.com/article/2425243-microsoft-and-quantinuums-quantum-computer-may-be-most-reliable-yet/\"\n",
    "\n",
    "# parser = 'html5lib'\n",
    "parser = 'html.parser'\n",
    "\n",
    "soup = BeautifulSoup(response.text, parser)\n",
    "\n",
    "article_page = requests.get(url)\n",
    "article_html = article_page.text\n",
    "\n",
    "\n",
    "\n",
    "with open('article.pkl', 'wb') as f:\n",
    "    pickle.dump(article_page.text, f)\n",
    "\n",
    "# Load the pickled data\n",
    "with open('article.pkl', 'rb') as f:\n",
    "    article_html = pickle.load(f)\n",
    "\n",
    "    soup = BeautifulSoup(article_html, parser)\n",
    "article_element = soup.find('article')\n",
    "\n",
    "# Print the pickled data\n",
    "print(article_element)\n",
    "   \n",
    "\n"
   ]
  },
  {
   "cell_type": "code",
   "execution_count": 5,
   "metadata": {},
   "outputs": [
    {
     "name": "stdout",
     "output_type": "stream",
     "text": [
      "\n",
      "\n",
      "\n",
      "\n",
      "\n",
      "\n",
      "\n",
      "Technology\n",
      "\n",
      "Microsoft and Quantinuum’s quantum computer may be most reliable yet\n",
      "A quantum computer built by Quantinuum uses “logical quantum bits” designed by Microsoft to run simple computational routines with an unprecedented level of reliability\n",
      "By Karmela Padavic-Callaghan\n",
      "\n",
      "\n",
      "\n",
      "                                    3 April 2024\n",
      "                                                                    \n",
      "\n",
      "\n",
      "\n",
      "\n",
      "Facebook / Meta\n",
      "\n",
      "\n",
      "\n",
      "\n",
      "\n",
      "\n",
      "\n",
      "Twitter / X icon\n",
      "\n",
      "\n",
      "\n",
      "\n",
      "\n",
      "WhatsApp\n",
      "\n",
      "\n",
      "\n",
      "\n",
      "\n",
      "\n",
      "\n",
      "Linkedin\n",
      "\n",
      "\n",
      "\n",
      "\n",
      "\n",
      "\n",
      "\n",
      "Reddit\n",
      "\n",
      "\n",
      "\n",
      "\n",
      "\n",
      "\n",
      "\n",
      "Email\n",
      "\n",
      "\n",
      "\n",
      "\n",
      "\n",
      "\n",
      "\n",
      "\n",
      "\n",
      "\n",
      "\n",
      "\n",
      " \n",
      "\n",
      "\n",
      "\n",
      "The Quantinuum H2 chipQuantinuum\n",
      "Microsoft and the quantum computing firm Quantinuum claim to have made a quantum computer that has an unprecedented level of reliability. Its ability to correct its own errors could be a step towards more practical quantum computers in the near future.\n",
      "“What we did here gives me goosebumps. We have shown that error correction is repeatable, it is working and it is reliable,” says Krysta Svore at Microsoft.\n",
      "Experts have long anticipated the arrival of practical quantum computers, which could complete calculations that are too complex for conventional computers. Though quantum computers are steadily becoming larger and more complex, this prediction hasn’t yet been fully realised. One big reason for this is that all contemporary quantum computers make errors, and researchers have found it technically difficult to implement algorithms to catch and correct them during computation.Advertisement\n",
      " \n",
      "\n",
      "\n",
      "Read more\n",
      "            \n",
      "\n",
      "\n",
      "\n",
      "                                    Mystery of the quantum lentils: Are legumes exchanging secret signals?\n",
      "                            \n",
      "\n",
      "\n",
      "\n",
      "\n",
      "The new experiment may represent a significant step towards overcoming this error problem – the researchers say they ran over 14,000 separate computational routines on Quantinuum’s H2 quantum processors without a single error.\n",
      "Classical computers also make errors, but error correction can be coded into programs by making back-up copies of the information being processed. This approach isn’t possible in quantum computing because quantum information cannot be copied. So, instead, researchers spread it across groups of connected quantum bits, or qubits, to create what are known as logical qubits. The Microsoft and Quantinuum team used 30 qubits to make four of these logical qubits. \n",
      "Sign up to our The Weekly newsletter\n",
      "\n",
      "\n",
      "\n",
      "\n",
      "\n",
      "\n",
      "Receive a weekly dose of discovery in your inbox.\n",
      "\n",
      "\n",
      "Sign up to newsletter\n",
      "\n",
      "\n",
      "Svore says that it was the generation of these logical qubits, using a process developed by Microsoft, that enabled repeated runs of error-free, or fault-tolerant, experiments. Individual qubits are typically easily disturbed, but at the level of the logical qubits, the researchers could repeatedly detect and correct the errors.\n",
      "They say this approach was so successful that the four logical qubits produced as few as 0.125 per cent of the errors that were seen when the 30 qubits were left ungrouped. This means the ungrouped qubits would have produced as many as 800 errors for every one error produced by the logical qubits.\n",
      "“A logical error rate 800 times lower than the error rate of the physical qubits is a very significant advance in the field that takes us another step closer to fault-tolerant quantum computing,” says Mark Saffman at the University of Wisconsin who was not involved with the experiment.\n",
      "Jennifer Strabley at Quantinuum says the team’s hardware was well suited for the new experiments because it offers a high degree of control over qubits and because its quantum computer already had some of the lowest error rates achieved to date.\n",
      " \n",
      "                                    Quantum batteries: Strange technology that could provide instant power\n",
      "                            \n",
      "                                    By leveraging a bizarre property of quantum mechanics called entanglement, quantum batteries could theoretically recharge in a flash. Now, progress is being made towards making them a reality.\n",
      "                             \n",
      "In 2023, a team of researchers at Harvard University and their colleagues, including some at the quantum computing start-up QuEra, broke the record for the largest number of logical qubits – 48 at once. This is far more than the four logical qubits in the new device. But Strabley says the new device requires fewer physical qubits per logical qubit, and the logical qubits made fewer errors than those built by the Harvard team. “We used a lot fewer physical qubits and got better results,” she says.\n",
      "However, some experts consulted by New Scientist were not ready to qualify the new work as a breakthrough in quantum error correction just yet without more detail about the experiment.\n",
      "It is generally accepted that only quantum computers with 100 or more logical qubits will really be able to tackle scientifically and societally relevant problems in areas including chemistry or materials science. The next challenge is making everything larger. Both Strabley and Svore say they are confident that the longstanding collaboration between Microsoft and Quantinuum will get there soon.\n",
      "Topics:quantum computing \n",
      "\n",
      "\n",
      "\n",
      "\n",
      "\n",
      "Advertisement\n",
      "\n",
      "\n",
      "\n",
      "\n",
      "\n",
      "\n",
      "\n",
      "\n",
      "\n",
      "\n",
      "\n",
      "\n",
      "\n",
      "\n",
      "Sign up to our weekly newsletter\n",
      "\n",
      "Receive a weekly dose of discovery in your inbox! \n",
      "            We'll also keep you up to date with New Scientist \n",
      "            events and special offers.\n",
      "Sign up\n",
      "\n",
      "\n",
      " \n",
      "\n",
      "\n"
     ]
    }
   ],
   "source": [
    "from bs4 import BeautifulSoup\n",
    "import pickle\n",
    "\n",
    "# Read the HTML content from the file\n",
    "with open(\"article.pkl\", \"rb\") as f:\n",
    "    html_content = pickle.load(f)\n",
    "\n",
    "# Parse the HTML content\n",
    "soup = BeautifulSoup(html_content, \"html.parser\")\n",
    "\n",
    "# Find the article element\n",
    "article_element = soup.find(\"article\")\n",
    "\n",
    "# Get the text from the article element\n",
    "article_text = article_element.get_text()\n",
    "\n",
    "# Print the text\n",
    "print(article_text)\n"
   ]
  },
  {
   "cell_type": "markdown",
   "metadata": {},
   "source": [
    "### Question 2"
   ]
  },
  {
   "cell_type": "markdown",
   "metadata": {},
   "source": [
    "<b>Q2. Read in your article's html source from the file you created in question 1 and do sentiment analysis on the article/post's text (use `.get_text()`).  Print the polarity score with an appropriate label.  Additionally print the number of sentences in the original article (with an appropriate label)"
   ]
  },
  {
   "cell_type": "code",
   "execution_count": 6,
   "metadata": {},
   "outputs": [
    {
     "name": "stdout",
     "output_type": "stream",
     "text": [
      "Polarity: 0.17878080253080258\n",
      "Sentiment Polarity Score: 0.17878080253080258\n",
      "Number of Sentences: 32\n"
     ]
    }
   ],
   "source": [
    "import spacy\n",
    "from spacytextblob.spacytextblob import SpacyTextBlob\n",
    "from bs4 import BeautifulSoup\n",
    "from textblob import TextBlob\n",
    "\n",
    "# Calculate polarity score by using nlp\n",
    "nlp = spacy.load('en_core_web_sm')\n",
    "nlp.add_pipe('spacytextblob')\n",
    "doc = nlp(article_element.get_text())\n",
    "print(f'Polarity: {doc._.polarity}')\n",
    "\n",
    "# calculate polarity score by using blob\n",
    "# Perform sentiment analysis\n",
    "blob = TextBlob(article_text)\n",
    "polarity_score = blob.sentiment.polarity\n",
    "\n",
    "# Count the number of sentences\n",
    "num_sentences = len(blob.sentences)\n",
    "\n",
    "# Print the polarity score and number of sentences\n",
    "print(\"Sentiment Polarity Score:\", polarity_score)\n",
    "print(\"Number of Sentences:\", num_sentences)\n",
    "\n",
    "\n"
   ]
  },
  {
   "cell_type": "markdown",
   "metadata": {},
   "source": [
    "### Question 3"
   ]
  },
  {
   "cell_type": "markdown",
   "metadata": {},
   "source": [
    "<b>Q3. Load the article text into a trained `spaCy` pipeline, and determine the 5 most frequent tokens (converted to lower case).  Print the common tokens with an appropriate label.  Additionally, print the tokens their frequencies (with appropriate labels)"
   ]
  },
  {
   "cell_type": "code",
   "execution_count": 7,
   "metadata": {},
   "outputs": [
    {
     "name": "stdout",
     "output_type": "stream",
     "text": [
      "Tokens and Their Frequencies :\n",
      "[('quantum', 23), ('qubits', 19), ('logical', 13), ('error', 10), ('quantinuum', 8)]\n",
      "5 Most Frequent tokens :  {'logical', 'quantum', 'quantinuum', 'qubits', 'error'}\n"
     ]
    }
   ],
   "source": [
    "import spacy\n",
    "from spacytextblob.spacytextblob import SpacyTextBlob\n",
    "\n",
    "nlp = spacy.load('en_core_web_sm')\n",
    "doc = nlp(article_element.get_text())\n",
    "from collections import Counter\n",
    "\n",
    "def important_token(token):\n",
    "    return not (token.is_space or token.is_punct or token.is_stop)\n",
    "\n",
    "interesting_tokens = [token.text.lower() for token in doc if important_token(token)]\n",
    "word_freq = Counter(map(str,interesting_tokens))\n",
    "best_token = (word_freq.most_common(5))\n",
    "\n",
    "## print Print the common tokens with an appropriate label\n",
    "print(\"Tokens and Their Frequencies :\")\n",
    "print(best_token)\n",
    "best_tokens = set()\n",
    "for token, freq in word_freq.most_common(5):\n",
    "    best_tokens.add(token)\n",
    " ## print 5 Most Frequent tokens\n",
    "print(\"5 Most Frequent tokens : \", best_tokens)"
   ]
  },
  {
   "cell_type": "markdown",
   "metadata": {},
   "source": [
    "### Question 4"
   ]
  },
  {
   "cell_type": "markdown",
   "metadata": {},
   "source": [
    "<b>Q4. Load the article text into a trained `spaCy` pipeline, and determine the 5 most frequent lemmas (converted to lower case).  Print the common lemmas with an appropriate label.  Additionally, print the lemmas with their frequencies (with appropriate labels)."
   ]
  },
  {
   "cell_type": "code",
   "execution_count": 8,
   "metadata": {},
   "outputs": [
    {
     "name": "stdout",
     "output_type": "stream",
     "text": [
      "Lemmas and Their Frequencies :\n",
      "[('quantum', 23), ('qubit', 20), ('error', 17), ('logical', 13), ('computer', 11)]\n",
      "5 Most Frequent Lemmas  {'logical', 'quantum', 'qubit', 'error', 'computer'}\n"
     ]
    }
   ],
   "source": [
    "interesting_lemmas = [token.lemma_.lower() for token in doc if important_token(token)]\n",
    "lemma_freq = Counter(interesting_lemmas)\n",
    "best_lemmas= lemma_freq.most_common(5)\n",
    "\n",
    "# Print lemmas and their frequencies\n",
    "print(\"Lemmas and Their Frequencies :\")\n",
    "print(best_lemmas)\n",
    "best_lemmas = set()\n",
    "for lemma, freq in lemma_freq.most_common(5):\n",
    "    best_lemmas.add(lemma)\n",
    "    \n",
    "# Print the set of the 5 most frequent lemmas\n",
    "print(\"5 Most Frequent Lemmas \", best_lemmas)"
   ]
  },
  {
   "cell_type": "markdown",
   "metadata": {},
   "source": [
    "### Question 5"
   ]
  },
  {
   "cell_type": "markdown",
   "metadata": {},
   "source": [
    "<b>Q5. Make a list containing the scores (using tokens) of every sentence in the article, and plot a histogram with appropriate titles and axis labels of the scores. From your histogram, what seems to be the most common range of scores (put the answer in a comment after your code)?"
   ]
  },
  {
   "cell_type": "code",
   "execution_count": 9,
   "metadata": {},
   "outputs": [
    {
     "name": "stdout",
     "output_type": "stream",
     "text": [
      "0.12987012987012986 : TechnologyMicrosoft and Quantinuum’s quantum computer may be most reliable yetA quantum computer built by Quantinuum uses “logical quantum bits” designed by Microsoft to run simple computational routines with an unprecedented level of reliabilityBy Karmela Padavic-Callaghan                  3 April 2024                                  Facebook / MetaTwitter / X iconWhatsAppLinkedinRedditEmail The Quantinuum H2 chipQuantinuumMicrosoft and the quantum computing firm Quantinuum claim to have made a quantum computer that has an unprecedented level of reliability.\n",
      "0.05 : Its ability to correct its own errors could be a step towards more practical quantum computers in the near future.\n",
      "0.0 : “What we did here gives me goosebumps.\n",
      "0.05 : We have shown that error correction is repeatable, it is working and it is reliable,” says Krysta Svore at Microsoft.\n",
      "0.047619047619047616 : Experts have long anticipated the arrival of practical quantum computers, which could complete calculations that are too complex for conventional computers.\n",
      "0.05555555555555555 : Though quantum computers are steadily becoming larger and more complex, this prediction hasn’t yet been fully realised.\n",
      "0.03333333333333333 : One big reason for this is that all contemporary quantum computers make errors, and researchers have found it technically difficult to implement algorithms to catch and correct them during computation.\n",
      "0.125 : Advertisement Read more                        Mystery of the quantum lentils:\n",
      "0.0 : Are legumes exchanging secret signals?              \n",
      "0.12121212121212122 : The new experiment may represent a significant step towards overcoming this error problem – the researchers say they ran over 14,000 separate computational routines on Quantinuum’s H2 quantum processors without a single error.\n",
      "0.043478260869565216 : Classical computers also make errors, but error correction can be coded into programs by making back-up copies of the information being processed.\n",
      "0.13333333333333333 : This approach isn’t possible in quantum computing because quantum information cannot be copied.\n",
      "0.19047619047619047 : So, instead, researchers spread it across groups of connected quantum bits, or qubits, to create what are known as logical qubits.\n",
      "0.26666666666666666 : The Microsoft and Quantinuum team used 30 qubits to make four of these logical qubits. \n",
      "0.0 : Sign up to our The Weekly newsletterReceive a weekly dose of discovery in your inbox.\n",
      "0.09375 : Sign up to newsletterSvore says that it was the generation of these logical qubits, using a process developed by Microsoft, that enabled repeated runs of error-free, or fault-tolerant, experiments.\n",
      "0.13043478260869565 : Individual qubits are typically easily disturbed, but at the level of the logical qubits, the researchers could repeatedly detect and correct the errors.\n",
      "0.09375 : They say this approach was so successful that the four logical qubits produced as few as 0.125 per cent of the errors that were seen when the 30 qubits were left ungrouped.\n",
      "0.18181818181818182 : This means the ungrouped qubits would have produced as many as 800 errors for every one error produced by the logical qubits.\n",
      "0.10204081632653061 : “A logical error rate 800 times lower than the error rate of the physical qubits is a very significant advance in the field that takes us another step closer to fault-tolerant quantum computing,” says Mark Saffman at the University of Wisconsin who was not involved with the experiment.\n",
      "0.09523809523809523 : Jennifer Strabley at Quantinuum says the team’s hardware was well suited for the new experiments because it offers a high degree of control over qubits and because its quantum computer already had some of the lowest error rates achieved to date.                   \n",
      "0.1111111111111111 : Quantum batteries: Strange technology that could provide instant power                                By leveraging a bizarre property of quantum mechanics called entanglement, quantum batteries could theoretically recharge in a flash.\n",
      "0.0 : Now, progress is being made towards making them a reality.               \n",
      "0.08823529411764706 : In 2023, a team of researchers at Harvard University and their colleagues, including some at the quantum computing start-up QuEra, broke the record for the largest number of logical qubits – 48 at once.\n",
      "0.15384615384615385 : This is far more than the four logical qubits in the new device.\n",
      "0.14814814814814814 : But Strabley says the new device requires fewer physical qubits per logical qubit, and the logical qubits made fewer errors than those built by the Harvard team.\n",
      "0.07692307692307693 : “We used a lot fewer physical qubits and got better results,” she says.\n",
      "0.06666666666666667 : However, some experts consulted by New Scientist were not ready to qualify the new work as a breakthrough in quantum error correction just yet without more detail about the experiment.\n",
      "0.09375 : It is generally accepted that only quantum computers with 100 or more logical qubits will really be able to tackle scientifically and societally relevant problems in areas including chemistry or materials science.\n",
      "0.0 : The next challenge is making everything larger.\n",
      "0.05 : Both Strabley and Svore say they are confident that the longstanding collaboration between Microsoft and Quantinuum will get there soon.\n",
      "0.05263157894736842 : Topics:quantum computing AdvertisementSign up to our weekly newsletterReceive a weekly dose of discovery in your inbox!       \n",
      "0.0 : We'll also keep you up to date with New Scientist       events and special offers.\n",
      "0.0 : Sign up \n"
     ]
    }
   ],
   "source": [
    "sentences = list(doc.sents) # Finds score for each sentence\n",
    "for sentence in sentences:\n",
    "    count1= 0\n",
    "    for token in sentence:\n",
    "        if token.text.lower() in best_tokens:\n",
    "            count1+= 1\n",
    "    count2 = 0\n",
    "    for token in sentence:\n",
    "        if not(token.is_space or token.is_punct):\n",
    "            count2 += 1\n",
    "    sent_str = str(sentence).replace('\\n','').replace('  ',' ')\n",
    "    print(count1/count2,':',sent_str)"
   ]
  },
  {
   "cell_type": "code",
   "execution_count": 10,
   "metadata": {},
   "outputs": [
    {
     "name": "stdout",
     "output_type": "stream",
     "text": [
      "TokensLIST = [0.12987012987012986, 0.05, 0.0, 0.05, 0.047619047619047616, 0.05555555555555555, 0.03333333333333333, 0.125, 0.0, 0.12121212121212122, 0.043478260869565216, 0.13333333333333333, 0.19047619047619047, 0.26666666666666666, 0.0, 0.09375, 0.13043478260869565, 0.09375, 0.18181818181818182, 0.10204081632653061, 0.09523809523809523, 0.1111111111111111, 0.0, 0.08823529411764706, 0.15384615384615385, 0.14814814814814814, 0.07692307692307693, 0.06666666666666667, 0.09375, 0.0, 0.05, 0.05263157894736842, 0.0, 0.0]\n"
     ]
    }
   ],
   "source": [
    "tscores = []\n",
    "for sentence in sentences:\n",
    "    count1= 0\n",
    "    for token in sentence:\n",
    "        if token.text.lower() in best_tokens:\n",
    "            count1 += 1\n",
    "    count2 = 0\n",
    "    for token in sentence:\n",
    "        if not(token.is_space or token.is_punct):\n",
    "            count2 += 1\n",
    "    score = count1 / count2 if count2 > 0 else 0\n",
    "    tscores.append(score)\n",
    "\n",
    "print(\"TokensLIST =\", tscores)\n"
   ]
  },
  {
   "cell_type": "code",
   "execution_count": 11,
   "metadata": {},
   "outputs": [
    {
     "data": {
      "image/png": "[encoded data removed]",
      "text/plain": [
       "<Figure size 640x480 with 1 Axes>"
      ]
     },
     "metadata": {},
     "output_type": "display_data"
    }
   ],
   "source": [
    "import numpy as np\n",
    "import pandas as pd\n",
    "import matplotlib.pyplot as plt\n",
    "# Plot histogram\n",
    "plt.hist(tscores)\n",
    "plt.title('Frequency of Sentence Scores Using Tokens')\n",
    "plt.xlabel('Score')\n",
    "plt.ylabel('Frequency')\n",
    "plt.show()"
   ]
  },
  {
   "cell_type": "markdown",
   "metadata": {},
   "source": [
    "Based on the histogram, the most common range of scores appears to be between 0 and 0.05"
   ]
  },
  {
   "cell_type": "markdown",
   "metadata": {},
   "source": [
    "### Question 6"
   ]
  },
  {
   "cell_type": "markdown",
   "metadata": {},
   "source": [
    "<b>Q6. Make a list containing the scores (using lemmas) of every sentence in the article, and plot a histogram with appropriate titles and axis labels of the scores.  From your histogram, what seems to be the most common range of scores (put the answer in a comment after your code)?"
   ]
  },
  {
   "cell_type": "code",
   "execution_count": 12,
   "metadata": {},
   "outputs": [
    {
     "name": "stdout",
     "output_type": "stream",
     "text": [
      "0.11688311688311688 : TechnologyMicrosoft and Quantinuum’s quantum computer may be most reliable yetA quantum computer built by Quantinuum uses “logical quantum bits” designed by Microsoft to run simple computational routines with an unprecedented level of reliabilityBy Karmela Padavic-Callaghan                  3 April 2024                                  Facebook / MetaTwitter / X iconWhatsAppLinkedinRedditEmail The Quantinuum H2 chipQuantinuumMicrosoft and the quantum computing firm Quantinuum claim to have made a quantum computer that has an unprecedented level of reliability.\n",
      "0.15 : Its ability to correct its own errors could be a step towards more practical quantum computers in the near future.\n",
      "0.0 : “What we did here gives me goosebumps.\n",
      "0.05 : We have shown that error correction is repeatable, it is working and it is reliable,” says Krysta Svore at Microsoft.\n",
      "0.14285714285714285 : Experts have long anticipated the arrival of practical quantum computers, which could complete calculations that are too complex for conventional computers.\n",
      "0.1111111111111111 : Though quantum computers are steadily becoming larger and more complex, this prediction hasn’t yet been fully realised.\n",
      "0.1 : One big reason for this is that all contemporary quantum computers make errors, and researchers have found it technically difficult to implement algorithms to catch and correct them during computation.\n",
      "0.125 : Advertisement Read more                        Mystery of the quantum lentils:\n",
      "0.0 : Are legumes exchanging secret signals?              \n",
      "0.09090909090909091 : The new experiment may represent a significant step towards overcoming this error problem – the researchers say they ran over 14,000 separate computational routines on Quantinuum’s H2 quantum processors without a single error.\n",
      "0.13043478260869565 : Classical computers also make errors, but error correction can be coded into programs by making back-up copies of the information being processed.\n",
      "0.13333333333333333 : This approach isn’t possible in quantum computing because quantum information cannot be copied.\n",
      "0.19047619047619047 : So, instead, researchers spread it across groups of connected quantum bits, or qubits, to create what are known as logical qubits.\n",
      "0.2 : The Microsoft and Quantinuum team used 30 qubits to make four of these logical qubits. \n",
      "0.0 : Sign up to our The Weekly newsletterReceive a weekly dose of discovery in your inbox.\n",
      "0.09375 : Sign up to newsletterSvore says that it was the generation of these logical qubits, using a process developed by Microsoft, that enabled repeated runs of error-free, or fault-tolerant, experiments.\n",
      "0.17391304347826086 : Individual qubits are typically easily disturbed, but at the level of the logical qubits, the researchers could repeatedly detect and correct the errors.\n",
      "0.125 : They say this approach was so successful that the four logical qubits produced as few as 0.125 per cent of the errors that were seen when the 30 qubits were left ungrouped.\n",
      "0.22727272727272727 : This means the ungrouped qubits would have produced as many as 800 errors for every one error produced by the logical qubits.\n",
      "0.10204081632653061 : “A logical error rate 800 times lower than the error rate of the physical qubits is a very significant advance in the field that takes us another step closer to fault-tolerant quantum computing,” says Mark Saffman at the University of Wisconsin who was not involved with the experiment.\n",
      "0.09523809523809523 : Jennifer Strabley at Quantinuum says the team’s hardware was well suited for the new experiments because it offers a high degree of control over qubits and because its quantum computer already had some of the lowest error rates achieved to date.                   \n",
      "0.1111111111111111 : Quantum batteries: Strange technology that could provide instant power                                By leveraging a bizarre property of quantum mechanics called entanglement, quantum batteries could theoretically recharge in a flash.\n",
      "0.0 : Now, progress is being made towards making them a reality.               \n",
      "0.08823529411764706 : In 2023, a team of researchers at Harvard University and their colleagues, including some at the quantum computing start-up QuEra, broke the record for the largest number of logical qubits – 48 at once.\n",
      "0.15384615384615385 : This is far more than the four logical qubits in the new device.\n",
      "0.2222222222222222 : But Strabley says the new device requires fewer physical qubits per logical qubit, and the logical qubits made fewer errors than those built by the Harvard team.\n",
      "0.07692307692307693 : “We used a lot fewer physical qubits and got better results,” she says.\n",
      "0.06666666666666667 : However, some experts consulted by New Scientist were not ready to qualify the new work as a breakthrough in quantum error correction just yet without more detail about the experiment.\n",
      "0.125 : It is generally accepted that only quantum computers with 100 or more logical qubits will really be able to tackle scientifically and societally relevant problems in areas including chemistry or materials science.\n",
      "0.0 : The next challenge is making everything larger.\n",
      "0.0 : Both Strabley and Svore say they are confident that the longstanding collaboration between Microsoft and Quantinuum will get there soon.\n",
      "0.05263157894736842 : Topics:quantum computing AdvertisementSign up to our weekly newsletterReceive a weekly dose of discovery in your inbox!       \n",
      "0.0 : We'll also keep you up to date with New Scientist       events and special offers.\n",
      "0.0 : Sign up \n"
     ]
    }
   ],
   "source": [
    "sentences = list(doc.sents) # Find Score Each Sentence\n",
    "for sentence in sentences:\n",
    "    count1= 0\n",
    "    for lemma in sentence:\n",
    "        if lemma.lemma_.lower() in best_lemmas:\n",
    "            count1+= 1\n",
    "    count2 = 0\n",
    "    for lemma in sentence:\n",
    "        if not(lemma.is_space or lemma.is_punct):\n",
    "            count2 += 1\n",
    "    sent_str = str(sentence).replace('\\n','').replace('  ',' ')\n",
    "    print(count1/count2,':',sent_str)\n"
   ]
  },
  {
   "cell_type": "code",
   "execution_count": 13,
   "metadata": {},
   "outputs": [
    {
     "name": "stdout",
     "output_type": "stream",
     "text": [
      "LemmasLIST = [0.11688311688311688, 0.15, 0.0, 0.05, 0.14285714285714285, 0.1111111111111111, 0.1, 0.125, 0.0, 0.09090909090909091, 0.13043478260869565, 0.13333333333333333, 0.19047619047619047, 0.2, 0.0, 0.09375, 0.17391304347826086, 0.125, 0.22727272727272727, 0.10204081632653061, 0.09523809523809523, 0.1111111111111111, 0.0, 0.08823529411764706, 0.15384615384615385, 0.2222222222222222, 0.07692307692307693, 0.06666666666666667, 0.125, 0.0, 0.0, 0.05263157894736842, 0.0, 0.0]\n"
     ]
    }
   ],
   "source": [
    "# Initialize list to store lemma scores\n",
    "lscores = []\n",
    "\n",
    "# Loop through each sentence to calculate lemma scores\n",
    "for sentence in sentences:\n",
    "    count1 = 0\n",
    "    for token in sentence:\n",
    "        if token.lemma_.lower() in best_lemmas:\n",
    "            count1 += 1\n",
    "    \n",
    "    count2 = 0\n",
    "    for token in sentence:\n",
    "        if not (token.is_space or token.is_punct):\n",
    "            count2 += 1\n",
    "    \n",
    "    # Calculate lemma score for the sentence\n",
    "    score = count1 / count2 if count2 > 0 else 0\n",
    "    lscores.append(score)\n",
    "\n",
    "# Print the list of lemma scores\n",
    "print(\"LemmasLIST =\", lscores)"
   ]
  },
  {
   "cell_type": "code",
   "execution_count": 14,
   "metadata": {},
   "outputs": [
    {
     "data": {
      "image/png": "[encoded data removed]",
      "text/plain": [
       "<Figure size 640x480 with 1 Axes>"
      ]
     },
     "metadata": {},
     "output_type": "display_data"
    }
   ],
   "source": [
    "# Plot histogram\n",
    "plt.hist(lscores)\n",
    "plt.title('Frequency of Sentence Scores Using Lemmas')\n",
    "plt.xlabel('Score')\n",
    "plt.ylabel('Frequency')\n",
    "plt.show()"
   ]
  },
  {
   "cell_type": "markdown",
   "metadata": {},
   "source": [
    "Based on the histogram, the most common range of scores appears to be between 0.1 and 0.15"
   ]
  },
  {
   "cell_type": "markdown",
   "metadata": {},
   "source": [
    "### Question 7"
   ]
  },
  {
   "cell_type": "markdown",
   "metadata": {},
   "source": [
    "<B>Q7. Using the histograms from questions 5 and 6, decide a \"cutoff\" score for tokens and lemmas such that fewer than half the sentences would have a score greater than the cutoff score.  Record the scores in this Markdown cell\n",
    "\n",
    "* Cutoff Score (tokens):  0.13\n",
    "* Cutoff Score (lemmas):  0.15\n",
    "\n",
    "Feel free to change these scores as you generate your summaries.  Ideally, we're shooting for at least 6 sentences for our summary, but don't want more than 10 (these numbers are rough estimates; they depend on the length of your article)."
   ]
  },
  {
   "cell_type": "code",
   "execution_count": 15,
   "metadata": {},
   "outputs": [
    {
     "name": "stdout",
     "output_type": "stream",
     "text": [
      "Cutoff Score (tokens): 0.13009599096555619\n"
     ]
    }
   ],
   "source": [
    "## To calculate the ideal cutoff score for tokens, the Percentile was used.\n",
    "import numpy as np\n",
    "\n",
    "# Convert the list of sentiment scores to a numpy array for easier calculation\n",
    "scores_array = np.array(tscores)\n",
    "\n",
    "# Calculate the cutoff score as the 25th percentile\n",
    "cutoff_score_tokens = np.percentile(scores_array, 80)\n",
    "\n",
    "print(\"Cutoff Score (tokens):\", cutoff_score_tokens)\n"
   ]
  },
  {
   "cell_type": "code",
   "execution_count": 16,
   "metadata": {},
   "outputs": [
    {
     "name": "stdout",
     "output_type": "stream",
     "text": [
      "Cutoff Score (lammas): 0.1457142857142857\n"
     ]
    }
   ],
   "source": [
    "## To calculate the ideal cutoff score for lammas, the Percentile was used.\n",
    "import numpy as np\n",
    "\n",
    "# Convert the list of sentiment scores to a numpy array for easier calculation\n",
    "scores_array = np.array(lscores)\n",
    "\n",
    "# Calculate the cutoff score as the 25th percentile\n",
    "cutoff_score_lammas = np.percentile(scores_array, 80)\n",
    "\n",
    "print(\"Cutoff Score (lammas):\", cutoff_score_lammas)\n"
   ]
  },
  {
   "cell_type": "code",
   "execution_count": 17,
   "metadata": {},
   "outputs": [
    {
     "name": "stdout",
     "output_type": "stream",
     "text": [
      "Mean Score: 0.08190848660845937\n",
      "Standard Deviation: 0.0629900541138513\n",
      "Cutoff Score (tokens): 0.13230052989954041\n"
     ]
    }
   ],
   "source": [
    "## To calculate the ideal cutoff score for tokens, the mean and std were used.\n",
    "import numpy as np\n",
    "\n",
    "# Convert the list of sentiment scores to a numpy array for easier calculation\n",
    "scores_array = np.array(tscores)\n",
    "\n",
    "# Calculate the mean and standard deviation of the sentiment scores\n",
    "mean_score = np.mean(scores_array)\n",
    "std_score = np.std(scores_array)\n",
    "\n",
    "# Add a certain number of standard deviations to the mean to determine the cutoff score\n",
    "# Adjust the multiplier as needed based on your requirements\n",
    "multiplier = 0.8  # You can adjust this multiplier based on your preference\n",
    "cutoff_score_tokens = mean_score + multiplier * std_score\n",
    "\n",
    "print(\"Mean Score:\", mean_score)\n",
    "print(\"Standard Deviation:\", std_score)\n",
    "print(\"Cutoff Score (tokens):\", cutoff_score_tokens)\n"
   ]
  },
  {
   "cell_type": "code",
   "execution_count": 18,
   "metadata": {},
   "outputs": [
    {
     "name": "stdout",
     "output_type": "stream",
     "text": [
      "Mean Score: 0.09573104571554533\n",
      "Standard Deviation: 0.06697693741560654\n",
      "Cutoff Score (lammas): 0.14931259564803057\n"
     ]
    }
   ],
   "source": [
    "## To calculate the ideal cutoff score for lammas, the mean and std were used.\n",
    "import numpy as np\n",
    "\n",
    "# Convert the list of sentiment scores to a numpy array for easier calculation\n",
    "scores_array = np.array(lscores)\n",
    "\n",
    "# Calculate the mean and standard deviation of the sentiment scores\n",
    "mean_score = np.mean(scores_array)\n",
    "std_score = np.std(scores_array)\n",
    "\n",
    "# Add a certain number of standard deviations to the mean to determine the cutoff score\n",
    "# Adjust the multiplier as needed based on your requirements\n",
    "multiplier = 0.8  # You can adjust this multiplier based on your preference\n",
    "cutoff_score_lammas = mean_score + multiplier * std_score\n",
    "\n",
    "print(\"Mean Score:\", mean_score)\n",
    "print(\"Standard Deviation:\", std_score)\n",
    "print(\"Cutoff Score (lammas):\", cutoff_score_lammas)"
   ]
  },
  {
   "cell_type": "markdown",
   "metadata": {},
   "source": [
    "### Question 8"
   ]
  },
  {
   "cell_type": "markdown",
   "metadata": {},
   "source": [
    "<B>Q8. Create a summary of the article by going through every sentence in the article and adding it to an (initially) empty list if its score (based on tokens) is greater than the cutoff score you identified in question 8.  If your loop variable is named `sent`, you may find it easier to add `sent.text.strip()` to your list of sentences.  Print the summary (I would cleanly generate the summary text by `join`ing the strings in your list together with a space (`' '.join(sentence_list)`)."
   ]
  },
  {
   "cell_type": "code",
   "execution_count": 19,
   "metadata": {},
   "outputs": [
    {
     "name": "stdout",
     "output_type": "stream",
     "text": [
      "Summary:\n",
      "This approach isn’t possible in quantum computing because quantum information cannot be copied. So, instead, researchers spread it across groups of connected quantum bits, or qubits, to create what are known as logical qubits. The Microsoft and Quantinuum team used 30 qubits to make four of these logical qubits. Individual qubits are typically easily disturbed, but at the level of the logical qubits, the researchers could repeatedly detect and correct the errors. This means the ungrouped qubits would have produced as many as 800 errors for every one error produced by the logical qubits. This is far more than the four logical qubits in the new device. But Strabley says the new device requires fewer physical qubits per logical qubit, and the logical qubits made fewer errors than those built by the Harvard team.\n"
     ]
    }
   ],
   "source": [
    "##### Initialize an empty list to store the sentences of the summary\n",
    "summary_sentences = []\n",
    "\n",
    "# Adjust the cutoff score to make the summary longer\n",
    "cutoff_score_tokens= 0.13\n",
    "\n",
    "# Iterate through each sentence in the article\n",
    "for sentence, score in zip(sentences, tscores):\n",
    "    # Check if the score of the sentence is greater than the lower cutoff score\n",
    "    if score > cutoff_score_tokens:\n",
    "        # Add the text of the sentence to the summary list after stripping any leading/trailing whitespace\n",
    "        summary_sentences.append(sentence.text.strip())\n",
    "\n",
    "# Generate the summary text by joining the sentences in the list together with a space\n",
    "summary_text = ' '.join(summary_sentences)\n",
    "\n",
    "# Print the summary text\n",
    "print(\"Summary:\")\n",
    "print(summary_text)\n"
   ]
  },
  {
   "cell_type": "markdown",
   "metadata": {},
   "source": [
    "### Question 9"
   ]
  },
  {
   "cell_type": "markdown",
   "metadata": {},
   "source": [
    "<B>Q9. Print the polarity score of your summary you generated with the token scores (with an appropriate label). Additionally, print the number of sentences in the summarized article."
   ]
  },
  {
   "cell_type": "code",
   "execution_count": 20,
   "metadata": {},
   "outputs": [
    {
     "name": "stdout",
     "output_type": "stream",
     "text": [
      "Polarity Score of the Summary: 0.0\n",
      "Number of Sentences in the Summarized Article: 7\n"
     ]
    }
   ],
   "source": [
    "import spacy\n",
    "\n",
    "# Load a pre-trained spaCy pipeline for sentiment analysis\n",
    "nlp_sentiment = spacy.load(\"en_core_web_sm\")\n",
    "\n",
    "# Process the summary text using spaCy for sentiment analysis\n",
    "summary_doc = nlp_sentiment(summary_text)\n",
    "\n",
    "# Use the sentiment score of the summary directly as its polarity score\n",
    "summary_polarity_score = summary_doc.sentiment\n",
    "\n",
    "# Print the polarity score of the summary with an appropriate label\n",
    "print(\"Polarity Score of the Summary:\", summary_polarity_score)\n",
    "\n",
    "# Count the number of sentences in the summarized article\n",
    "num_sentences_summary = len(list(summary_doc.sents))\n",
    "\n",
    "# Print the number of sentences in the summarized article with an appropriate label\n",
    "print(\"Number of Sentences in the Summarized Article:\", num_sentences_summary)\n"
   ]
  },
  {
   "cell_type": "markdown",
   "metadata": {},
   "source": [
    "### Question 10"
   ]
  },
  {
   "cell_type": "markdown",
   "metadata": {},
   "source": [
    "<B>Q10. Create a summary of the article by going through every sentence in the article and adding it to an (initially) empty list if its score (based on lemmas) is greater than the cutoff score you identified in question 8.  If your loop variable is named `sent`, you may find it easier to add `sent.text.strip()` to your list of sentences.  Print the summary (I would cleanly generate the summary text by `join`ing the strings in your list together with a space (`' '.join(sentence_list)`)."
   ]
  },
  {
   "cell_type": "code",
   "execution_count": 21,
   "metadata": {},
   "outputs": [
    {
     "name": "stdout",
     "output_type": "stream",
     "text": [
      "Summary based on Lemmas:\n",
      "So, instead, researchers spread it across groups of connected quantum bits, or qubits, to create what are known as logical qubits. The Microsoft and Quantinuum team used 30 qubits to make four of these logical qubits. Individual qubits are typically easily disturbed, but at the level of the logical qubits, the researchers could repeatedly detect and correct the errors. This means the ungrouped qubits would have produced as many as 800 errors for every one error produced by the logical qubits. This is far more than the four logical qubits in the new device. But Strabley says the new device requires fewer physical qubits per logical qubit, and the logical qubits made fewer errors than those built by the Harvard team.\n"
     ]
    }
   ],
   "source": [
    "# Initialize an empty list to store the sentences of the summary based on lemmas\n",
    "summary_sentences_lemmas = []\n",
    "cutoff_score_lemmas = 0.15\n",
    "# Iterate through each sentence in the article\n",
    "for sentence, score in zip(sentences, lscores):\n",
    "    # Check if the score of the sentence is greater than the cutoff score\n",
    "    if score > cutoff_score_lemmas:\n",
    "        # Add the text of the sentence to the summary list after stripping any leading/trailing whitespace\n",
    "        summary_sentences_lemmas.append(sentence.text.strip())\n",
    "\n",
    "# Generate the summary text based on lemmas by joining the sentences in the list together with a space\n",
    "summary_text_lemmas = ' '.join(summary_sentences_lemmas)\n",
    "\n",
    "# Print the summary text based on lemmas\n",
    "print(\"Summary based on Lemmas:\")\n",
    "print(summary_text_lemmas)\n"
   ]
  },
  {
   "cell_type": "markdown",
   "metadata": {},
   "source": [
    "### Question 11"
   ]
  },
  {
   "cell_type": "markdown",
   "metadata": {},
   "source": [
    "<B>Q11. Print the polarity score of your summary you generated with the lemma scores (with an appropriate label). Additionally, print the number of sentences in the summarized article."
   ]
  },
  {
   "cell_type": "code",
   "execution_count": 22,
   "metadata": {},
   "outputs": [
    {
     "name": "stdout",
     "output_type": "stream",
     "text": [
      "Polarity Score of the Summary (Lemmas): 0.0\n",
      "Number of Sentences in the Summarized Article (Lemmas): 6\n"
     ]
    }
   ],
   "source": [
    "import spacy\n",
    "\n",
    "# Load a pre-trained spaCy pipeline for sentiment analysis\n",
    "nlp_sentiment = spacy.load(\"en_core_web_sm\")\n",
    "\n",
    "# Process the summary text based on lemmas using spaCy for sentiment analysis\n",
    "summary_doc_lemmas = nlp_sentiment(summary_text_lemmas)\n",
    "\n",
    "# Calculate the polarity score of the summary based on lemmas\n",
    "summary_polarity_score_lemmas = summary_doc_lemmas.sentiment\n",
    "\n",
    "# Print the polarity score of the summary based on lemmas with an appropriate label\n",
    "print(\"Polarity Score of the Summary (Lemmas):\", summary_polarity_score_lemmas)\n",
    "\n",
    "# Count the number of sentences in the summarized article based on lemmas\n",
    "num_sentences_summary_lemmas = len(list(summary_doc_lemmas.sents))\n",
    "\n",
    "# Print the number of sentences in the summarized article based on lemmas with an appropriate label\n",
    "print(\"Number of Sentences in the Summarized Article (Lemmas):\", num_sentences_summary_lemmas)\n"
   ]
  },
  {
   "cell_type": "markdown",
   "metadata": {},
   "source": [
    "### Question 12"
   ]
  },
  {
   "cell_type": "markdown",
   "metadata": {},
   "source": [
    "<b>Q12.  Compare your polarity scores of your summaries to the polarity scores of the initial article.  Is there a difference?  Why do you think that may or may not be?.  Answer in this Markdown cell.  "
   ]
  },
  {
   "cell_type": "markdown",
   "metadata": {},
   "source": [
    "My polarity scores of my summaries for both tokens and lemmas were both neutral showing that there wasnt any signs of an evident sentiment towards the topic. In the initial article however, the polarity scores for both tokens and lemmas were evidently postive, showing that the the percieved sentiment of the article was positive towards the topic. I think that the difference in polarity scores is because an AI does not have the ability to effectively mimic the emotionality of humans, which can cause large differences in polarity scores, and also causing for the polarity scores for the summaries to almost always be close to neural."
   ]
  },
  {
   "cell_type": "markdown",
   "metadata": {},
   "source": [
    "### Question 13"
   ]
  },
  {
   "cell_type": "markdown",
   "metadata": {},
   "source": [
    "<B>Q13. Based on your reading of the original article, which summary do you think is better (if there's a difference).  Why do you think this might be?"
   ]
  },
  {
   "cell_type": "markdown",
   "metadata": {},
   "source": [
    "I think that the first summary (the token summary), is better. I think this, because it gives a much stronger introduction into the topic, while the lemmas summary gave a very subpar introduction that was hard to understand and did not do a good job in explaining what the article was about. The first summary was also put into much simpler terms, which helped to explain the point of the article better than the lemmas article. I think that this may be because, although lemmas might be better at generalizing the summary, the token summary ended up better, because tokens are better at creating summaries that closely match the article."
   ]
  },
  {
   "cell_type": "code",
   "execution_count": 23,
   "metadata": {},
   "outputs": [
    {
     "name": "stderr",
     "output_type": "stream",
     "text": [
      "[NbConvertApp] Converting notebook article-summarizer.ipynb to html\n",
      "[NbConvertApp] Writing 747977 bytes to article-summarizer.html\n"
     ]
    }
   ],
   "source": [
    "!jupyter nbconvert --to html article-summarizer.ipynb"
   ]
  }
 ],
 "metadata": {
  "kernelspec": {
   "display_name": "Python 3 (ipykernel)",
   "language": "python",
   "name": "python3"
  },
  "language_info": {
   "codemirror_mode": {
    "name": "ipython",
    "version": 3
   },
   "file_extension": ".py",
   "mimetype": "text/x-python",
   "name": "python",
   "nbconvert_exporter": "python",
   "pygments_lexer": "ipython3",
   "version": "3.9.12"
  }
 },
 "nbformat": 4,
 "nbformat_minor": 4
}
